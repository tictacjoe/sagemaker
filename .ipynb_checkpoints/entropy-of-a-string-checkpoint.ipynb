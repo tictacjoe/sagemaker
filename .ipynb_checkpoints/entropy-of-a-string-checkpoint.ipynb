{
 "cells": [
  {
   "cell_type": "code",
   "execution_count": 2,
   "metadata": {
    "id": "UNRB9AGuTqU_"
   },
   "outputs": [],
   "source": [
    "#Measure the entropy of given strings"
   ]
  },
  {
   "cell_type": "code",
   "execution_count": 3,
   "metadata": {
    "colab": {
     "base_uri": "https://localhost:8080/"
    },
    "executionInfo": {
     "elapsed": 359,
     "status": "ok",
     "timestamp": 1605628551050,
     "user": {
      "displayName": "Joe Kidd",
      "photoUrl": "https://lh3.googleusercontent.com/a-/AOh14GgIr4PSfltG67sp25-F_gGXXTiJtiyObh1VYDLPaK0=s64",
      "userId": "07857072224708361574"
     },
     "user_tz": 300
    },
    "id": "tJKDCcc0TqVJ",
    "outputId": "330e316a-a8f5-4ccf-bbd4-0e2980efe4b5"
   },
   "outputs": [
    {
     "name": "stdout",
     "output_type": "stream",
     "text": [
      "a: 0.000000\n",
      "a1: 1.000000\n",
      "a1@: 1.584963\n",
      "somethinglll: 3.188722\n",
      "now is a perfect time: 3.594466\n"
     ]
    }
   ],
   "source": [
    "import math, string, sys, fileinput\n",
    "\n",
    "def range_bytes (): return range(256)\n",
    "def range_printable(): return (ord(c) for c in string.printable)\n",
    "def H(data, iterator=range_bytes):\n",
    "    if not data:\n",
    "        return 0\n",
    "    entropy = 0\n",
    "    for x in iterator():\n",
    "        p_x = float(data.count(chr(x)))/len(data)\n",
    "        if p_x > 0:\n",
    "            entropy += - p_x*math.log(p_x, 2)\n",
    "    return entropy\n",
    "\n",
    "def main ():\n",
    "    for row in fileinput.input():\n",
    "        string = row.rstrip('\\n')\n",
    "        print (\"%s: %f\" % (string, H(string, range_printable)))\n",
    "\n",
    "for str in ['a', 'a1', 'a1@', 'somethinglll','now is a perfect time']:\n",
    "    print (\"%s: %f\" % (str, H(str, range_printable)))"
   ]
  },
  {
   "cell_type": "code",
   "execution_count": null,
   "metadata": {
    "id": "vVJ7DgtsTqWU"
   },
   "outputs": [],
   "source": []
  },
  {
   "cell_type": "code",
   "execution_count": null,
   "metadata": {},
   "outputs": [],
   "source": []
  }
 ],
 "metadata": {
  "colab": {
   "collapsed_sections": [],
   "name": "colab ok 11-17 - measure entropy of a string.ipynb",
   "provenance": []
  },
  "instance_type": "ml.t3.medium",
  "kernelspec": {
   "display_name": "Python 3 (Base Python)",
   "language": "python",
   "name": "python3__SAGEMAKER_INTERNAL__arn:aws:sagemaker:us-east-1:081325390199:image/python-3.6"
  },
  "language_info": {
   "codemirror_mode": {
    "name": "ipython",
    "version": 3
   },
   "file_extension": ".py",
   "mimetype": "text/x-python",
   "name": "python",
   "nbconvert_exporter": "python",
   "pygments_lexer": "ipython3",
   "version": "3.6.13"
  }
 },
 "nbformat": 4,
 "nbformat_minor": 4
}
